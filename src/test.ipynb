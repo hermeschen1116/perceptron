{
 "cells": [
  {
   "cell_type": "code",
   "execution_count": 1,
   "id": "a7a5e1e2485f640e",
   "metadata": {
    "ExecuteTime": {
     "end_time": "2024-10-04T17:58:58.840556Z",
     "start_time": "2024-10-04T17:58:58.329277Z"
    }
   },
   "outputs": [],
   "source": [
    "import numpy\n",
    "\n",
    "from src.perceptron.data.Preprocess import create_dataset, create_split, read_file\n",
    "from src.perceptron.Model import Perceptron\n",
    "from src.perceptron.network.LossFunction import MeanSquareError\n",
    "from src.perceptron.Trainer import get_in_out_features"
   ]
  },
  {
   "cell_type": "code",
   "execution_count": 2,
   "id": "initial_id",
   "metadata": {
    "ExecuteTime": {
     "end_time": "2024-10-04T17:58:58.845780Z",
     "start_time": "2024-10-04T17:58:58.843618Z"
    },
    "collapsed": true
   },
   "outputs": [],
   "source": [
    "raw_dataset: list = read_file(\"../data/extra/2Circle2.txt\")"
   ]
  },
  {
   "cell_type": "code",
   "execution_count": 3,
   "id": "b9a250d84d2f4fb5",
   "metadata": {
    "ExecuteTime": {
     "end_time": "2024-10-04T17:58:58.923324Z",
     "start_time": "2024-10-04T17:58:58.918741Z"
    }
   },
   "outputs": [],
   "source": [
    "dataset = create_dataset(raw_dataset)"
   ]
  },
  {
   "cell_type": "code",
   "execution_count": 4,
   "id": "7223bac18a87e7ba",
   "metadata": {
    "ExecuteTime": {
     "end_time": "2024-10-04T17:58:58.928747Z",
     "start_time": "2024-10-04T17:58:58.927054Z"
    }
   },
   "outputs": [],
   "source": [
    "dataset_split = create_split(dataset, [2 / 3, 1 / 3])"
   ]
  },
  {
   "cell_type": "code",
   "execution_count": 5,
   "id": "330d583db073d53e",
   "metadata": {
    "ExecuteTime": {
     "end_time": "2024-10-04T17:58:58.934581Z",
     "start_time": "2024-10-04T17:58:58.932772Z"
    }
   },
   "outputs": [],
   "source": [
    "in_feature, out_feature = get_in_out_features(dataset)"
   ]
  },
  {
   "cell_type": "code",
   "execution_count": 6,
   "id": "776434ffb17da0f1",
   "metadata": {
    "ExecuteTime": {
     "end_time": "2024-10-04T17:58:58.940460Z",
     "start_time": "2024-10-04T17:58:58.938422Z"
    }
   },
   "outputs": [],
   "source": [
    "model = Perceptron(in_feature, out_feature, 0.05)\n",
    "loss_function = MeanSquareError()"
   ]
  },
  {
   "cell_type": "code",
   "execution_count": 7,
   "id": "718f6bfc2c470c6a",
   "metadata": {
    "ExecuteTime": {
     "end_time": "2024-10-04T17:58:58.946408Z",
     "start_time": "2024-10-04T17:58:58.944901Z"
    }
   },
   "outputs": [],
   "source": [
    "label_predicted: list = []"
   ]
  },
  {
   "cell_type": "code",
   "execution_count": 8,
   "id": "16798c505f9a908e",
   "metadata": {
    "ExecuteTime": {
     "end_time": "2024-10-04T17:58:58.954191Z",
     "start_time": "2024-10-04T17:58:58.951301Z"
    }
   },
   "outputs": [
    {
     "data": {
      "text/plain": [
       "173"
      ]
     },
     "execution_count": 8,
     "metadata": {},
     "output_type": "execute_result"
    }
   ],
   "source": [
    "len(dataset_split[\"train\"])"
   ]
  },
  {
   "cell_type": "code",
   "execution_count": 9,
   "id": "5912f0d2d1cadc7e",
   "metadata": {
    "ExecuteTime": {
     "end_time": "2024-10-04T17:58:58.965347Z",
     "start_time": "2024-10-04T17:58:58.963274Z"
    }
   },
   "outputs": [
    {
     "data": {
      "text/plain": [
       "1"
      ]
     },
     "execution_count": 9,
     "metadata": {},
     "output_type": "execute_result"
    }
   ],
   "source": [
    "160 - 53 * 3"
   ]
  },
  {
   "cell_type": "code",
   "execution_count": 10,
   "id": "172a2179f42ba5da",
   "metadata": {
    "ExecuteTime": {
     "end_time": "2024-10-04T17:58:59.036765Z",
     "start_time": "2024-10-04T17:58:59.030311Z"
    }
   },
   "outputs": [
    {
     "name": "stdout",
     "output_type": "stream",
     "text": [
      "0\n",
      "1\n",
      "2\n",
      "3\n",
      "4\n",
      "5\n",
      "6\n",
      "7\n",
      "8\n",
      "9\n",
      "10\n",
      "11\n",
      "12\n",
      "13\n",
      "14\n",
      "15\n",
      "16\n",
      "17\n",
      "18\n",
      "19\n",
      "20\n",
      "21\n",
      "22\n",
      "23\n",
      "24\n",
      "25\n",
      "26\n",
      "27\n",
      "28\n",
      "29\n",
      "30\n",
      "31\n",
      "32\n",
      "33\n",
      "34\n",
      "35\n",
      "36\n",
      "37\n",
      "38\n",
      "39\n",
      "40\n",
      "41\n",
      "42\n",
      "43\n",
      "44\n",
      "45\n",
      "46\n",
      "47\n",
      "48\n",
      "49\n",
      "50\n",
      "51\n",
      "52\n",
      "53\n",
      "54\n",
      "55\n",
      "56\n",
      "57\n"
     ]
    }
   ],
   "source": [
    "i: int = 0\n",
    "for row in dataset_split[\"train\"].iter_slices(3):\n",
    "\tprint(i)\n",
    "\ti += 1\n",
    "\tdata, one_hot_label = row[\"data\"].to_numpy(), row[\"one_hot_label\"].to_numpy()\n",
    "\toutput = model(data)\n",
    "\tlabel_predicted += output.argmax(-1).tolist()\n",
    "\tloss = loss_function(output, one_hot_label)\n",
    "\tmodel.optimize(loss_function.gradient)"
   ]
  },
  {
   "cell_type": "code",
   "execution_count": 11,
   "id": "7939a6130b68ff1d",
   "metadata": {
    "ExecuteTime": {
     "end_time": "2024-10-04T17:58:59.113500Z",
     "start_time": "2024-10-04T17:58:59.111586Z"
    }
   },
   "outputs": [],
   "source": [
    "a = numpy.random.rand(2, 3)"
   ]
  },
  {
   "cell_type": "code",
   "execution_count": 12,
   "id": "97a1c6de627c097c",
   "metadata": {
    "ExecuteTime": {
     "end_time": "2024-10-04T17:58:59.128086Z",
     "start_time": "2024-10-04T17:58:59.126538Z"
    }
   },
   "outputs": [],
   "source": [
    "b = numpy.random.rand(2, 3)"
   ]
  },
  {
   "cell_type": "code",
   "execution_count": 13,
   "id": "e7ee269ebc6120d8",
   "metadata": {
    "ExecuteTime": {
     "end_time": "2024-10-04T17:58:59.139734Z",
     "start_time": "2024-10-04T17:58:59.137091Z"
    }
   },
   "outputs": [
    {
     "data": {
      "text/plain": [
       "array([[0.62986764, 0.91350337, 0.42087061],\n",
       "       [0.5915152 , 0.6917374 , 0.02935293]])"
      ]
     },
     "execution_count": 13,
     "metadata": {},
     "output_type": "execute_result"
    }
   ],
   "source": [
    "a"
   ]
  },
  {
   "cell_type": "code",
   "execution_count": 14,
   "id": "61a8e1e3903ab55d",
   "metadata": {
    "ExecuteTime": {
     "end_time": "2024-10-04T17:58:59.163451Z",
     "start_time": "2024-10-04T17:58:59.161561Z"
    }
   },
   "outputs": [],
   "source": [
    "c = a * b"
   ]
  },
  {
   "cell_type": "code",
   "execution_count": 15,
   "id": "d6c947277d113459",
   "metadata": {
    "ExecuteTime": {
     "end_time": "2024-10-04T17:58:59.191006Z",
     "start_time": "2024-10-04T17:58:59.187325Z"
    }
   },
   "outputs": [
    {
     "data": {
      "text/plain": [
       "(2, 3)"
      ]
     },
     "execution_count": 15,
     "metadata": {},
     "output_type": "execute_result"
    }
   ],
   "source": [
    "c.shape"
   ]
  },
  {
   "cell_type": "code",
   "execution_count": 16,
   "id": "2abf9e16e24dd35e",
   "metadata": {
    "ExecuteTime": {
     "end_time": "2024-10-04T17:58:59.216681Z",
     "start_time": "2024-10-04T17:58:59.213682Z"
    }
   },
   "outputs": [
    {
     "data": {
      "text/plain": [
       "array([[0.62986764, 0.91350337, 0.42087061],\n",
       "       [0.5915152 , 0.6917374 , 0.02935293]])"
      ]
     },
     "execution_count": 16,
     "metadata": {},
     "output_type": "execute_result"
    }
   ],
   "source": [
    "a"
   ]
  },
  {
   "cell_type": "code",
   "execution_count": 17,
   "id": "bd03f1a502956d7d",
   "metadata": {
    "ExecuteTime": {
     "end_time": "2024-10-04T17:58:59.253726Z",
     "start_time": "2024-10-04T17:58:59.251286Z"
    }
   },
   "outputs": [
    {
     "data": {
      "text/plain": [
       "array([[1.58484997, 1.8684857 , 1.37585295],\n",
       "       [1.54649754, 1.64671973, 0.98433526]])"
      ]
     },
     "execution_count": 17,
     "metadata": {},
     "output_type": "execute_result"
    }
   ],
   "source": [
    "a + numpy.random.rand(1)"
   ]
  },
  {
   "cell_type": "code",
   "execution_count": 18,
   "id": "1ad52d8a44b0c30a",
   "metadata": {
    "ExecuteTime": {
     "end_time": "2024-10-04T17:58:59.316522Z",
     "start_time": "2024-10-04T17:58:59.314522Z"
    }
   },
   "outputs": [
    {
     "data": {
      "text/plain": [
       "array([[0.62986764, 0.91350337, 0.42087061],\n",
       "       [0.5915152 , 0.6917374 , 0.02935293]])"
      ]
     },
     "execution_count": 18,
     "metadata": {},
     "output_type": "execute_result"
    }
   ],
   "source": [
    "a"
   ]
  },
  {
   "cell_type": "code",
   "execution_count": 19,
   "id": "dec528f86e57372c",
   "metadata": {
    "ExecuteTime": {
     "end_time": "2024-10-04T17:58:59.354345Z",
     "start_time": "2024-10-04T17:58:59.352019Z"
    }
   },
   "outputs": [
    {
     "data": {
      "text/plain": [
       "array([[1.],\n",
       "       [1.],\n",
       "       [1.]])"
      ]
     },
     "execution_count": 19,
     "metadata": {},
     "output_type": "execute_result"
    }
   ],
   "source": [
    "a = numpy.ones((3, 1))\n",
    "a"
   ]
  },
  {
   "cell_type": "code",
   "execution_count": 20,
   "id": "98eae938ce74468e",
   "metadata": {
    "ExecuteTime": {
     "end_time": "2024-10-04T17:58:59.390727Z",
     "start_time": "2024-10-04T17:58:59.386148Z"
    }
   },
   "outputs": [
    {
     "data": {
      "text/plain": [
       "array([[0.01347244, 0.95934672, 0.61365761, 0.27243712],\n",
       "       [0.57250104, 0.08539969, 0.46830205, 0.39208748],\n",
       "       [0.09492381, 0.35651497, 0.12922487, 0.22636752]])"
      ]
     },
     "execution_count": 20,
     "metadata": {},
     "output_type": "execute_result"
    }
   ],
   "source": [
    "b = numpy.random.rand(3, 4)\n",
    "b"
   ]
  },
  {
   "cell_type": "code",
   "execution_count": 21,
   "id": "de372329ecb64cf7",
   "metadata": {
    "ExecuteTime": {
     "end_time": "2024-10-04T17:58:59.451188Z",
     "start_time": "2024-10-04T17:58:59.448422Z"
    }
   },
   "outputs": [
    {
     "data": {
      "text/plain": [
       "array([[0.6808973 , 1.40126138, 1.21118454, 0.89089212]])"
      ]
     },
     "execution_count": 21,
     "metadata": {},
     "output_type": "execute_result"
    }
   ],
   "source": [
    "a.T.dot(b)"
   ]
  },
  {
   "cell_type": "code",
   "execution_count": 22,
   "id": "d764e645cc5eedf2",
   "metadata": {
    "ExecuteTime": {
     "end_time": "2024-10-04T17:58:59.517343Z",
     "start_time": "2024-10-04T17:58:59.513596Z"
    }
   },
   "outputs": [
    {
     "data": {
      "text/plain": [
       "array([0.6808973 , 1.40126138, 1.21118454, 0.89089212])"
      ]
     },
     "execution_count": 22,
     "metadata": {},
     "output_type": "execute_result"
    }
   ],
   "source": [
    "b.sum(0)"
   ]
  },
  {
   "cell_type": "code",
   "execution_count": null,
   "id": "2cfd7840a5f64f03",
   "metadata": {
    "ExecuteTime": {
     "end_time": "2024-10-04T17:58:59.535661Z",
     "start_time": "2024-10-04T17:58:59.533891Z"
    }
   },
   "outputs": [],
   "source": []
  }
 ],
 "metadata": {
  "kernelspec": {
   "display_name": "Python 3",
   "language": "python",
   "name": "python3"
  },
  "language_info": {
   "codemirror_mode": {
    "name": "ipython",
    "version": 2
   },
   "file_extension": ".py",
   "mimetype": "text/x-python",
   "name": "python",
   "nbconvert_exporter": "python",
   "pygments_lexer": "ipython2",
   "version": "2.7.6"
  }
 },
 "nbformat": 4,
 "nbformat_minor": 5
}
